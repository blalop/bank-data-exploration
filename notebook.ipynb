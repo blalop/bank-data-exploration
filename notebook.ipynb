{
 "cells": [
  {
   "cell_type": "markdown",
   "metadata": {},
   "source": [
    "# Bank account data exploration (via BBVA's monthly reports)\n",
    "\n",
    "* Download the monthly reports via web. \n",
    "* Save all the reports in YYYY-MM.pdf format.\n",
    "* The loading method expects the reports to be in a reports folder."
   ]
  },
  {
   "cell_type": "markdown",
   "metadata": {},
   "source": [
    "## Loading stuff"
   ]
  },
  {
   "cell_type": "code",
   "execution_count": null,
   "metadata": {},
   "outputs": [],
   "source": [
    "import pdftotext, re, os\n",
    "import pandas as pd\n",
    "import numpy as np\n",
    "import matplotlib.pyplot as plt\n",
    "import matplotlib.gridspec as gridspec\n",
    "import matplotlib.dates as mdates\n",
    "\n",
    "plt.style.use('seaborn')\n",
    "plt.rcParams['figure.dpi'] = 400\n",
    "plt.rcParams['savefig.dpi'] = 800\n",
    "plt.rcParams[\"axes.grid\"] = True\n",
    "\n",
    "DIRNAME = 'reports'\n",
    "\n",
    "COLUMN_NAMES = ['date', 'value_date', 'concept', 'amount', 'balance', 'card', 'subconcept']\n",
    "\n",
    "REGEX = r'^([\\d][\\d]/[\\d][\\d])\\s([\\d][\\d]/[\\d][\\d])\\s*([A-ZÑñÁáÉéÍíÓóÚúÜü\\'\\,\\.\\:\\s]+)\\s*(-?\\d*.?\\d*,\\d*)\\s*(\\d*.?\\d*,\\d*)\\s*(\\d*)\\s*([\\d\\wÑñÁáÉéÍíÓóÚúÜü \\.\\,\\:\\*\\'\\-\\/\\(\\)]*)$'\n",
    "\n",
    "parse_num = lambda row: pd.to_numeric(row.apply(lambda x: x.replace('.', '').replace(',', '.')))\n",
    "parse_date = lambda row, year: pd.to_datetime(row + '/' + year, dayfirst=True)\n",
    "parse_text = lambda row: row.apply(lambda x: x.strip())\n",
    "\n",
    "def parse_pdf(filename):\n",
    "    year = filename[:4]\n",
    "    with open(os.path.join(DIRNAME, filename), \"rb\") as f:\n",
    "        pdf = '\\n'.join(pdftotext.PDF(f))\n",
    "        operations = re.findall(REGEX, pdf, re.MULTILINE)\n",
    "        df = pd.DataFrame(operations, columns = COLUMN_NAMES)\n",
    "        df['date'] = parse_date(df['date'], year)\n",
    "        df['value_date'] = parse_date(df['value_date'], year)\n",
    "        df['amount'] = parse_num(df['amount'])\n",
    "        df['balance'] = parse_num(df['balance'])\n",
    "        df['concept'] = parse_text(df['concept'])\n",
    "        df['subconcept'] = parse_text(df['subconcept'])\n",
    "        return df\n",
    "\n",
    "filenames = [ f for _, _, files in os.walk(DIRNAME) for f in files]\n",
    "df = pd.concat(map(parse_pdf, filenames))\n",
    "df.set_index('date', inplace=True) \n",
    "df.sort_index(inplace=True)\n",
    "df.describe()"
   ]
  },
  {
   "cell_type": "markdown",
   "metadata": {},
   "source": [
    "## Common routines"
   ]
  },
  {
   "cell_type": "code",
   "execution_count": null,
   "metadata": {},
   "outputs": [],
   "source": [
    "def group_by_month(dataframe, aggregation_dict):\n",
    "    grouped_dataframe = dataframe.groupby(pd.Grouper(freq='M')).aggregate(aggregation_dict)\n",
    "    grouped_dataframe.index = grouped_dataframe.index.map(lambda x: x if isinstance(x, str) else x.strftime('%Y-%m'))\n",
    "    return grouped_dataframe"
   ]
  },
  {
   "cell_type": "markdown",
   "metadata": {},
   "source": [
    "## Balance evolution"
   ]
  },
  {
   "cell_type": "markdown",
   "metadata": {},
   "source": [
    "### Overall evolution"
   ]
  },
  {
   "cell_type": "code",
   "execution_count": null,
   "metadata": {},
   "outputs": [],
   "source": [
    "df_last_year = df.last('12M')\n",
    "\n",
    "_, (ax1, ax2) = plt.subplots(nrows=2, ncols=1, figsize=(10, 20))\n",
    "\n",
    "df.balance.plot(ax=ax1)\n",
    "df_last_year.balance.plot(ax=ax2)"
   ]
  },
  {
   "cell_type": "markdown",
   "metadata": {},
   "source": [
    "### Monthly evolution in mean terms"
   ]
  },
  {
   "cell_type": "code",
   "execution_count": null,
   "metadata": {},
   "outputs": [],
   "source": [
    "balance_by_month_mean = group_by_month(df, {'balance': np.mean})\n",
    "\n",
    "_, (ax1, ax2) = plt.subplots(nrows=2, ncols=1, figsize=(10, 10))\n",
    "\n",
    "balance_by_month_mean.plot(marker='o', legend=False, ax=ax1)\n",
    "balance_by_month_mean.tail(24).plot(marker='o', legend=False, ax=ax2)"
   ]
  },
  {
   "cell_type": "markdown",
   "metadata": {},
   "source": [
    "### Monthly evolution in diff terms"
   ]
  },
  {
   "cell_type": "code",
   "execution_count": null,
   "metadata": {},
   "outputs": [],
   "source": [
    "def diff(series):\n",
    "    aslist = series.tolist()\n",
    "    return aslist[-1] - aslist[0] if len(aslist) != 0 else 0\n",
    "\n",
    "balance_by_month_diff = group_by_month(df, {'balance': diff})\n",
    "\n",
    "_, (ax1, ax2) = plt.subplots(nrows=2, ncols=1, figsize=(10, 10))\n",
    "\n",
    "balance_by_month_diff.plot(marker='o', legend=False, ax=ax1)\n",
    "balance_by_month_diff.tail(24).plot(marker='o', legend=False, ax=ax2)"
   ]
  },
  {
   "cell_type": "markdown",
   "metadata": {},
   "source": [
    "## Spending vs incoming"
   ]
  },
  {
   "cell_type": "markdown",
   "metadata": {},
   "source": [
    "### Spending vs incoming by concepts"
   ]
  },
  {
   "cell_type": "code",
   "execution_count": null,
   "metadata": {},
   "outputs": [],
   "source": [
    "spending = df.query('amount < 0')\n",
    "incoming = df.query('amount > 0')\n",
    "spending_by_concept = spending.groupby('concept').amount.sum()\n",
    "incoming_by_concept = incoming.groupby('concept').amount.sum()\n",
    "\n",
    "combined_amounts = pd.concat([spending_by_concept.rename('spending'), incoming_by_concept.rename('incoming')], axis=1)\n",
    "\n",
    "combined_amounts.plot(kind='barh', width=1, figsize=(10,10), stacked=True)"
   ]
  },
  {
   "cell_type": "markdown",
   "metadata": {},
   "source": [
    "### Last year spending vs incoming"
   ]
  },
  {
   "cell_type": "code",
   "execution_count": null,
   "metadata": {},
   "outputs": [],
   "source": [
    "spending_last_year = df_last_year.query('amount < 0')\n",
    "incoming_last_year = df_last_year.query('amount > 0')\n",
    "\n",
    "spending_last_year_by_month = group_by_month(spending_last_year, {'amount':np.sum}).amount\n",
    "incoming_last_year_by_month = group_by_month(incoming_last_year, {'amount':np.sum}).amount\n",
    "\n",
    "combined_amounts_last_year_by_month = pd.concat([spending_last_year_by_month, incoming_last_year_by_month], axis=1)\n",
    "\n",
    "ax = balance_by_month_mean.tail(12).plot(legend=False, linestyle='-', marker='o', color='crimson')\n",
    "ax = balance_by_month_diff.tail(12).plot(legend=False, linestyle='-', marker='o', color='goldenrod', ax=ax)\n",
    "ax = combined_amounts_last_year_by_month.plot(kind='bar', stacked=True, legend=False, ax=ax)\n",
    "ax.legend(['mean', 'diff']);"
   ]
  },
  {
   "cell_type": "markdown",
   "metadata": {},
   "source": [
    "## Spending distribution"
   ]
  },
  {
   "cell_type": "markdown",
   "metadata": {},
   "source": [
    "### Spending distribution by €"
   ]
  },
  {
   "cell_type": "code",
   "execution_count": null,
   "metadata": {},
   "outputs": [],
   "source": [
    "_, (ax1, ax2) = plt.subplots(nrows=1, ncols=2)\n",
    "\n",
    "spending.amount.abs().plot(kind='hist', bins=25, xlim=(0, 1000), ax=ax1)\n",
    "spending.amount.abs().plot(kind='box', ylim=(0,150), yticks=range(0, 150, 10), ax=ax2)"
   ]
  },
  {
   "cell_type": "markdown",
   "metadata": {},
   "source": [
    "### Spending by concept"
   ]
  },
  {
   "cell_type": "code",
   "execution_count": null,
   "metadata": {},
   "outputs": [],
   "source": [
    "spending_by_concept_sorted = spending_by_concept.abs().sort_values()\n",
    "\n",
    "spending_by_concept_sorted.where(lambda x : x > 500).plot(kind='barh')"
   ]
  },
  {
   "cell_type": "markdown",
   "metadata": {},
   "source": [
    "### Spending by month"
   ]
  },
  {
   "cell_type": "code",
   "execution_count": null,
   "metadata": {},
   "outputs": [],
   "source": [
    "spending_by_month = group_by_month(spending, {'amount': np.sum}).abs()\n",
    "\n",
    "\n",
    "spending_by_month.amount.plot(kind='bar', width=1, figsize=(20, 20))"
   ]
  }
 ],
 "metadata": {
  "kernelspec": {
   "display_name": "Python 3",
   "language": "python",
   "name": "python3"
  },
  "language_info": {
   "codemirror_mode": {
    "name": "ipython",
    "version": 3
   },
   "file_extension": ".py",
   "mimetype": "text/x-python",
   "name": "python",
   "nbconvert_exporter": "python",
   "pygments_lexer": "ipython3",
   "version": "3.8.2"
  }
 },
 "nbformat": 4,
 "nbformat_minor": 4
}
